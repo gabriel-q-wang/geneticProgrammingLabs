{
 "cells": [
  {
   "cell_type": "code",
   "execution_count": 1,
   "metadata": {},
   "outputs": [
    {
     "name": "stderr",
     "output_type": "stream",
     "text": [
      "C:\\Users\\gwgwa\\Anaconda3\\lib\\site-packages\\deap\\tools\\_hypervolume\\pyhv.py:33: ImportWarning: Falling back to the python version of hypervolume module. Expect this to be very slow.\n",
      "  \"module. Expect this to be very slow.\", ImportWarning)\n"
     ]
    }
   ],
   "source": [
    "%matplotlib inline\n",
    "import random\n",
    "import operator\n",
    "\n",
    "import numpy as np\n",
    "import matplotlib.pyplot as plt\n",
    "\n",
    "from deap import algorithms\n",
    "from deap import base\n",
    "from deap import creator\n",
    "from deap import tools\n",
    "from deap import gp\n"
   ]
  },
  {
   "cell_type": "code",
   "execution_count": 2,
   "metadata": {},
   "outputs": [],
   "source": [
    "creator.create(\"FitnessMin\", base.Fitness, weights=(-1.0,-1.0))\n",
    "creator.create(\"Individual\", gp.PrimitiveTree, fitness=creator.FitnessMin)"
   ]
  },
  {
   "cell_type": "code",
   "execution_count": 3,
   "metadata": {},
   "outputs": [],
   "source": [
    "random.seed(25)\n",
    "\n",
    "pset = gp.PrimitiveSet(\"MAIN\", arity=1)\n",
    "#pset.addPrimitive(np.add, arity=2)\n",
    "#pset.addPrimitive(np.subtract, arity=2)\n",
    "#pset.addPrimitive(np.multiply, arity=2)\n",
    "#pset.addPrimitive(np.negative, arity=1)\n",
    "pset.addPrimitive(np.sin, arity=1)\n",
    "pset.addPrimitive(np.cos, arity=1)\n",
    "pset.addPrimitive(np.tan, arity=1)\n",
    "pset.renameArguments(ARG0='x')\n",
    "\n",
    "toolbox = base.Toolbox()\n",
    "toolbox.register(\"expr\", gp.genHalfAndHalf, pset=pset, min_=1, max_=2)\n",
    "toolbox.register(\"individual\", tools.initIterate, creator.Individual, toolbox.expr)\n",
    "toolbox.register(\"population\", tools.initRepeat, list, toolbox.individual)\n",
    "toolbox.register(\"compile\", gp.compile, pset=pset)"
   ]
  },
  {
   "cell_type": "code",
   "execution_count": 4,
   "metadata": {},
   "outputs": [],
   "source": [
    "def evalSymbReg(individual, points, pset):\n",
    "    func = gp.compile(expr=individual, pset=pset)\n",
    "    sqerrors = (func(points)-(np.negative(points) + np.sin(points**2) + np.tan(points**3) - np.cos(points)))**2\n",
    "\n",
    "    return (np.sqrt(np.sum(sqerrors) / len(points)), len(individual))\n",
    "\n",
    "\n",
    "toolbox.register(\"evaluate\", evalSymbReg, points=np.linspace(-1, 1, 1000), pset=pset)\n",
    "toolbox.register(\"select\", tools.selTournament, tournsize=3)\n",
    "toolbox.register(\"mate\", gp.cxOnePoint)\n",
    "toolbox.register(\"expr_mut\", gp.genFull, min_=0, max_=2)\n",
    "toolbox.register(\"mutate\", gp.mutUniform, expr=toolbox.expr_mut, pset=pset)\n",
    "\n",
    "toolbox.decorate(\"mate\", gp.staticLimit(key=operator.attrgetter(\"height\"), max_value=17))\n",
    "toolbox.decorate(\"mutate\", gp.staticLimit(key=operator.attrgetter(\"height\"), max_value=17))"
   ]
  },
  {
   "cell_type": "code",
   "execution_count": 5,
   "metadata": {},
   "outputs": [],
   "source": [
    "def pareto_dominance(ind1, ind2):\n",
    "    not_equal = False\n",
    "    for value_1, value_2 in zip(ind1.fitness.values, ind2.fitness.values):\n",
    "        if value_1 > value_2:\n",
    "            return False\n",
    "        elif value_1 < value_2:\n",
    "            not_equal = True\n",
    "    return not_equal"
   ]
  },
  {
   "cell_type": "code",
   "execution_count": 6,
   "metadata": {},
   "outputs": [],
   "source": [
    "pop = toolbox.population(n=300)\n",
    "\n",
    "fitnesses = list(map(toolbox.evaluate, pop))\n",
    "for ind, fit in zip(pop, fitnesses):\n",
    "    ind.fitness.values = fit\n",
    "\n",
    "a_given_individual = toolbox.population(n=1)[0]\n",
    "a_given_individual.fitness.values = toolbox.evaluate(a_given_individual)"
   ]
  },
  {
   "cell_type": "code",
   "execution_count": 7,
   "metadata": {},
   "outputs": [],
   "source": [
    "dominated = [ind for ind in pop if pareto_dominance(a_given_individual, ind)]\n",
    "dominators = [ind for ind in pop if pareto_dominance(ind, a_given_individual)]\n",
    "others = [ind for ind in pop if not ind in dominated and not ind in dominators]"
   ]
  },
  {
   "cell_type": "code",
   "execution_count": 8,
   "metadata": {},
   "outputs": [
    {
     "data": {
      "image/png": "[encoded data removed]",
      "text/plain": [
       "<Figure size 432x288 with 1 Axes>"
      ]
     },
     "metadata": {
      "needs_background": "light"
     },
     "output_type": "display_data"
    }
   ],
   "source": [
    "for ind in dominators: plt.plot(ind.fitness.values[0], ind.fitness.values[1], 'r.', alpha=0.7)\n",
    "for ind in dominated: plt.plot(ind.fitness.values[0], ind.fitness.values[1], 'g.', alpha=0.7)\n",
    "for ind in others: plt.plot(ind.fitness.values[0], ind.fitness.values[1], 'k.', alpha=0.7, ms=3)\n",
    "plt.plot(a_given_individual.fitness.values[0], a_given_individual.fitness.values[1], 'bo', ms=6);\n",
    "plt.xlabel('Mean Squared Error');plt.ylabel('Tree Size');\n",
    "plt.title('Objective space');\n",
    "plt.tight_layout()\n",
    "plt.show()"
   ]
  },
  {
   "cell_type": "code",
   "execution_count": 9,
   "metadata": {},
   "outputs": [
    {
     "name": "stdout",
     "output_type": "stream",
     "text": [
      "gen\tnevals\tavg                    \tstd                    \tmin                    \tmax                    \n",
      "0  \t50    \t[1.34097753 2.4       ]\t[0.63407263 0.48989795]\t[0.96166056 2.        ]\t[5.36937813 3.        ]\n",
      "1  \t72    \t[1.11572551 2.38      ]\t[0.16705322 0.52497619]\t[0.96166056 2.        ]\t[1.50104761 4.        ]\n",
      "2  \t64    \t[1.0029283 2.18     ]  \t[0.03900901 0.51730069]\t[0.96166056 1.        ]\t[1.12913912 4.        ]\n",
      "3  \t68    \t[0.98234987 2.12      ]\t[0.00959361 0.38157568]\t[0.96166056 1.        ]\t[1.01875976 3.        ]\n",
      "4  \t63    \t[0.97469211 2.44      ]\t[0.01155124 0.49638695]\t[0.96166056 2.        ]\t[0.98493119 3.        ]\n",
      "5  \t64    \t[0.96724551 2.76      ]\t[0.00993849 0.42708313]\t[0.96166056 2.        ]\t[0.98493119 3.        ]\n",
      "6  \t69    \t[0.95962234 3.12      ]\t[0.00636609 0.38157568]\t[0.93007479 3.        ]\t[0.96166056 5.        ]\n",
      "7  \t68    \t[0.9547711 3.4      ]  \t[0.00955798 0.56568542]\t[0.93007479 3.        ]\t[0.96166056 5.        ]\n",
      "8  \t68    \t[0.94624412 3.9       ]\t[0.0090533  0.57445626]\t[0.91852454 3.        ]\t[0.96166056 6.        ]\n",
      "9  \t62    \t[0.9380523 4.46     ]  \t[0.01002541 0.75392307]\t[0.91852454 3.        ]\t[0.96166056 6.        ]\n",
      "10 \t67    \t[0.92388926 5.64      ]\t[0.0135644  1.22898332]\t[0.88647042 4.        ]\t[ 0.94407921 10.        ]\n",
      "11 \t66    \t[0.91084102 6.92      ]\t[0.01267109 1.45382255]\t[0.88064857 4.        ]\t[ 0.94407921 11.        ]\n",
      "12 \t71    \t[0.90017724 8.22      ]\t[0.01182155 1.46      ]\t[0.88064857 4.        ]\t[ 0.94407921 11.        ]\n",
      "13 \t75    \t[ 0.88617301 10.24      ]\t[0.0113774  1.86075254]\t[0.86228966 7.        ]\t[ 0.90875805 15.        ]\n",
      "14 \t71    \t[ 0.8752188 12.22     ]  \t[0.00976665 1.96254936]\t[0.85518468 7.        ]\t[ 0.90875805 17.        ]\n",
      "15 \t69    \t[ 0.86828224 13.78      ]\t[0.01070163 2.31767125]\t[0.85200576 8.        ]\t[ 0.90034278 18.        ]\n",
      "16 \t59    \t[ 0.86116622 15.42      ]\t[0.00667753 1.75601822]\t[ 0.85200576 12.        ]\t[ 0.87540103 18.        ]\n",
      "17 \t77    \t[ 0.86123834 15.96      ]\t[0.01892284 2.51364277]\t[0.85200576 7.        ]  \t[ 0.97701926 18.        ]\n",
      "18 \t72    \t[ 0.85472588 17.22      ]\t[0.00535617 1.33101465]\t[ 0.85200576 10.        ]\t[ 0.88647042 18.        ]\n",
      "19 \t69    \t[ 0.85257796 17.82      ]\t[0.0012213  0.38418745]\t[ 0.85200576 17.        ]\t[ 0.85518468 18.        ]\n",
      "20 \t72    \t[ 0.85609275 17.88      ]\t[0.02815836 0.71105555]\t[ 0.85200576 13.        ]\t[ 1.05317667 18.        ]\n",
      "21 \t68    \t[ 0.85229136 17.92      ]\t[0.00199922 0.56      ]\t[ 0.85200576 14.        ]\t[ 0.8662859 18.       ]  \n",
      "22 \t74    \t[ 0.85221144 17.94      ]\t[0.00143975 0.42      ]\t[ 0.85200576 15.        ]\t[ 0.86228966 18.        ]\n",
      "23 \t76    \t[ 0.85523547 17.52      ]\t[0.01873791 2.35151015]\t[0.85200576 2.        ]  \t[ 0.98493119 18.        ]\n",
      "24 \t66    \t[ 0.85213768 17.96      ]\t[0.00092348 0.28      ]\t[ 0.85200576 16.        ]\t[ 0.85860202 18.        ]\n",
      "25 \t74    \t[ 0.85200576 18.        ]\t[7.77156117e-16 0.00000000e+00]\t[ 0.85200576 18.        ]\t[ 0.85200576 18.        ]\n",
      "26 \t69    \t[ 0.85200576 18.        ]\t[7.77156117e-16 0.00000000e+00]\t[ 0.85200576 18.        ]\t[ 0.85200576 18.        ]\n",
      "27 \t68    \t[ 0.85213768 17.96      ]\t[0.00092348 0.28      ]        \t[ 0.85200576 16.        ]\t[ 0.85860202 18.        ]\n",
      "28 \t59    \t[ 0.85200576 18.        ]\t[7.77156117e-16 0.00000000e+00]\t[ 0.85200576 18.        ]\t[ 0.85200576 18.        ]\n",
      "29 \t72    \t[ 0.85356714 17.74      ]\t[0.01092966 1.82      ]        \t[0.85200576 5.        ]  \t[ 0.93007479 18.        ]\n",
      "30 \t69    \t[ 0.85240153 17.88      ]\t[0.00156653 0.47497368]        \t[ 0.85200576 16.        ]\t[ 0.85860202 18.        ]\n",
      "31 \t67    \t[ 0.85253724 17.86      ]\t[0.00329642 0.84876381]        \t[ 0.85200576 12.        ]\t[ 0.87540103 18.        ]\n",
      "32 \t66    \t[ 0.85295124 17.76      ]\t[0.00473888 1.19264412]        \t[ 0.85200576 11.        ]\t[ 0.88064857 18.        ]\n",
      "33 \t59    \t[ 0.85200576 18.        ]\t[7.77156117e-16 0.00000000e+00]\t[ 0.85200576 18.        ]\t[ 0.85200576 18.        ]\n",
      "34 \t73    \t[ 0.85200576 18.        ]\t[7.77156117e-16 0.00000000e+00]\t[ 0.85200576 18.        ]\t[ 0.85200576 18.        ]\n",
      "35 \t67    \t[ 0.85206934 17.98      ]\t[0.00044505 0.14      ]        \t[ 0.85200576 17.        ]\t[ 0.85518468 18.        ]\n",
      "36 \t73    \t[ 0.85244197 17.88      ]\t[0.00263714 0.71105555]        \t[ 0.85200576 13.        ]\t[ 0.87063728 18.        ]\n",
      "37 \t64    \t[ 0.85200576 18.        ]\t[7.77156117e-16 0.00000000e+00]\t[ 0.85200576 18.        ]\t[ 0.85200576 18.        ]\n",
      "38 \t70    \t[ 0.85200576 18.        ]\t[7.77156117e-16 0.00000000e+00]\t[ 0.85200576 18.        ]\t[ 0.85200576 18.        ]\n",
      "39 \t63    \t[ 0.85206934 17.98      ]\t[0.00044505 0.14      ]        \t[ 0.85200576 17.        ]\t[ 0.85518468 18.        ]\n",
      "40 \t71    \t[ 0.85200576 18.        ]\t[7.77156117e-16 0.00000000e+00]\t[ 0.85200576 18.        ]\t[ 0.85200576 18.        ]\n",
      "41 \t73    \t[ 0.85428762 17.54      ]\t[0.0108509  2.09007177]        \t[0.85200576 6.        ]  \t[ 0.91852454 18.        ]\n",
      "42 \t71    \t[ 0.85310641 17.72      ]\t[0.00517447 1.24963995]        \t[ 0.85200576 10.        ]\t[ 0.88647042 18.        ]\n",
      "43 \t70    \t[ 0.85227501 17.92      ]\t[0.00149826 0.44      ]        \t[ 0.85200576 15.        ]\t[ 0.86228966 18.        ]\n",
      "44 \t72    \t[ 0.85226961 17.92      ]\t[0.0012926  0.39191836]        \t[ 0.85200576 16.        ]\t[ 0.85860202 18.        ]\n",
      "45 \t73    \t[ 0.85240153 17.88      ]\t[0.00156653 0.47497368]        \t[ 0.85200576 16.        ]\t[ 0.85860202 18.        ]\n",
      "46 \t72    \t[ 0.85240153 17.88      ]\t[0.00156653 0.47497368]        \t[ 0.85200576 16.        ]\t[ 0.85860202 18.        ]\n",
      "47 \t69    \t[ 0.85380525 17.52      ]\t[0.00567563 1.47295621]        \t[ 0.85200576 12.        ]\t[ 0.87540103 18.        ]\n",
      "48 \t74    \t[ 0.85285949 17.76      ]\t[0.00337114 0.92865494]        \t[ 0.85200576 13.        ]\t[ 0.87063728 18.        ]\n",
      "49 \t69    \t[ 0.85288672 17.8       ]\t[0.00309994 0.74833148]        \t[ 0.85200576 14.        ]\t[ 0.8662859 18.       ]  \n",
      "50 \t69    \t[ 0.85266399 17.82      ]\t[0.0032539  0.88746831]        \t[ 0.85200576 13.        ]\t[ 0.87063728 18.        ]\n"
     ]
    }
   ],
   "source": [
    "NGEN = 50\n",
    "MU = 50\n",
    "LAMBDA = 100\n",
    "CXPB = 0.5\n",
    "MUTPB = 0.2\n",
    "\n",
    "pop = toolbox.population(n=MU)\n",
    "hof = tools.ParetoFront()\n",
    "stats = tools.Statistics(lambda ind: ind.fitness.values)\n",
    "stats.register(\"avg\", np.mean, axis=0)\n",
    "stats.register(\"std\", np.std, axis=0)\n",
    "stats.register(\"min\", np.min, axis=0)\n",
    "stats.register(\"max\", np.max, axis=0)\n",
    "\n",
    "pop, logbook = algorithms.eaMuPlusLambda(pop, toolbox, MU, LAMBDA, CXPB, MUTPB, NGEN, stats,\n",
    "                          halloffame=hof)"
   ]
  },
  {
   "cell_type": "code",
   "execution_count": 10,
   "metadata": {},
   "outputs": [
    {
     "name": "stdout",
     "output_type": "stream",
     "text": [
      "Best individual is: sin(sin(sin(sin(sin(sin(sin(sin(sin(sin(sin(sin(sin(sin(sin(sin(sin(x)))))))))))))))))\n",
      "with fitness: (0.8520057573415855, 18.0)\n"
     ]
    },
    {
     "data": {
      "image/png": "[encoded data removed]",
      "text/plain": [
       "<Figure size 432x288 with 1 Axes>"
      ]
     },
     "metadata": {
      "needs_background": "light"
     },
     "output_type": "display_data"
    }
   ],
   "source": [
    "print(\"Best individual is: %s\\nwith fitness: %s\" % (hof[0], hof[0].fitness))\n",
    "gen, avg, min_, max_ = logbook.select(\"gen\", \"avg\", \"min\", \"max\")\n",
    "plt.plot(gen, avg, label=\"average\")\n",
    "plt.plot(gen, min_, label=\"minimum\")\n",
    "plt.xlabel(\"Generation\")\n",
    "plt.ylabel(\"Fitness\")\n",
    "plt.legend(loc=\"upper left\")\n",
    "plt.show()"
   ]
  },
  {
   "cell_type": "code",
   "execution_count": 11,
   "metadata": {},
   "outputs": [
    {
     "data": {
      "image/png": "[encoded data removed]",
      "text/plain": [
       "<Figure size 432x288 with 1 Axes>"
      ]
     },
     "metadata": {
      "needs_background": "light"
     },
     "output_type": "display_data"
    },
    {
     "name": "stdout",
     "output_type": "stream",
     "text": [
      "Area Under Curve: 1.0982901691790423\n"
     ]
    }
   ],
   "source": [
    "\"\"\"Split fitness values into separate lists\"\"\"\n",
    "fitness_1 = [ind.fitness.values[0] for ind in hof]\n",
    "fitness_2 = [ind.fitness.values[1] for ind in hof]\n",
    "pop_1 = [ind.fitness.values[0] for ind in pop]\n",
    "pop_2 = [ind.fitness.values[1] for ind in pop]\n",
    "\n",
    "'''Print dominated population for debugging'''\n",
    "# for ind in pop:\n",
    "#     print(ind.fitness)\n",
    "\n",
    "plt.scatter(pop_1, pop_2, color='b')\n",
    "plt.scatter(fitness_1, fitness_2, color='r')\n",
    "plt.plot(fitness_1, fitness_2, color='r', drawstyle='steps-post')\n",
    "plt.xlabel(\"Mean Squared Error\")\n",
    "plt.ylabel(\"Tree Size\")\n",
    "plt.title(\"Pareto Front\")\n",
    "plt.show()\n",
    "\n",
    "f1 = np.array(fitness_1)\n",
    "f2 = np.array(fitness_2)\n",
    "\n",
    "\"\"\"Calculate area under curve with least squares method\"\"\"\n",
    "print(\"Area Under Curve: %s\" % (np.sum(np.abs(np.diff(f1))*f2[:-1])))"
   ]
  },
  {
   "cell_type": "code",
   "execution_count": null,
   "metadata": {},
   "outputs": [],
   "source": []
  }
 ],
 "metadata": {
  "kernelspec": {
   "display_name": "Python 3",
   "language": "python",
   "name": "python3"
  },
  "language_info": {
   "codemirror_mode": {
    "name": "ipython",
    "version": 3
   },
   "file_extension": ".py",
   "mimetype": "text/x-python",
   "name": "python",
   "nbconvert_exporter": "python",
   "pygments_lexer": "ipython3",
   "version": "3.7.1"
  }
 },
 "nbformat": 4,
 "nbformat_minor": 2
}
